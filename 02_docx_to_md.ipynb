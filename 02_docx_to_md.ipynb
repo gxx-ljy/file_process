{
 "cells": [
  {
   "cell_type": "markdown",
   "id": "6dca7953-33ca-43af-a477-e23d23eabbff",
   "metadata": {},
   "source": [
    "# docx to md"
   ]
  },
  {
   "cell_type": "markdown",
   "id": "f0361b23-21bb-4035-b8d5-9870b200c263",
   "metadata": {},
   "source": [
    "## docx to html"
   ]
  },
  {
   "cell_type": "code",
   "execution_count": 1,
   "id": "7ec3a5b7-c279-4e02-bca6-edc0084fa1f4",
   "metadata": {
    "execution": {
     "iopub.execute_input": "2023-11-28T02:17:58.055709Z",
     "iopub.status.busy": "2023-11-28T02:17:58.055709Z",
     "iopub.status.idle": "2023-11-28T02:17:58.637899Z",
     "shell.execute_reply": "2023-11-28T02:17:58.637899Z",
     "shell.execute_reply.started": "2023-11-28T02:17:58.055709Z"
    },
    "tags": []
   },
   "outputs": [],
   "source": [
    "from spire.doc import Document as Document2\n",
    "from spire.doc import FileFormat\n",
    "\n",
    "docx_file_path = \"data/02test.docx\"\n",
    "html_file_path = \"data/02test.html\"\n",
    "\n",
    "document = Document2()\n",
    "document.LoadFromFile(docx_file_path)\n",
    "# 保存为HTML文件\n",
    "document.SaveToFile(html_file_path, FileFormat.Html)\n",
    "document.Close()"
   ]
  },
  {
   "cell_type": "markdown",
   "id": "fe15f004-286a-464b-a133-26ac97319048",
   "metadata": {},
   "source": [
    "- 生成效果\n",
    "- 开头有一行多余的\n",
    "\n",
    "![](./pic/02test.png)"
   ]
  },
  {
   "cell_type": "markdown",
   "id": "d353d531-e691-4eb9-936b-c228e085ff0c",
   "metadata": {},
   "source": [
    "## 删除第一行"
   ]
  },
  {
   "cell_type": "code",
   "execution_count": 2,
   "id": "6fd82473-fa46-4f08-87ae-ede4a6c74aaf",
   "metadata": {
    "execution": {
     "iopub.execute_input": "2023-11-28T02:23:03.976947Z",
     "iopub.status.busy": "2023-11-28T02:23:03.976947Z",
     "iopub.status.idle": "2023-11-28T02:23:03.987486Z",
     "shell.execute_reply": "2023-11-28T02:23:03.987240Z",
     "shell.execute_reply.started": "2023-11-28T02:23:03.976947Z"
    },
    "tags": []
   },
   "outputs": [],
   "source": [
    "# 打开生成的HTML文件并删除第一行内容\n",
    "# 读取HTML文件内容\n",
    "with open(html_file_path, \"r\", encoding=\"utf-8\") as file:\n",
    "    lines = file.readlines()\n",
    "\n",
    "# 删除第一行内容\n",
    "lines = lines[1:]\n",
    "\n",
    "html_file_path1 = \"data/02test1.html\"\n",
    "# 将修改后的内容写回文件\n",
    "with open(html_file_path1, \"w\", encoding=\"utf-8\") as file:\n",
    "    file.writelines(lines)"
   ]
  },
  {
   "cell_type": "markdown",
   "id": "7282ac38-e87b-4ef9-a5cf-5b90810720fd",
   "metadata": {},
   "source": [
    "## 01 html to md"
   ]
  },
  {
   "cell_type": "code",
   "execution_count": 4,
   "id": "d8cb827d-77ef-423e-b220-b4ffbf109a22",
   "metadata": {
    "execution": {
     "iopub.execute_input": "2023-11-28T02:25:23.076275Z",
     "iopub.status.busy": "2023-11-28T02:25:23.076275Z",
     "iopub.status.idle": "2023-11-28T02:25:23.087560Z",
     "shell.execute_reply": "2023-11-28T02:25:23.086830Z",
     "shell.execute_reply.started": "2023-11-28T02:25:23.076275Z"
    },
    "tags": []
   },
   "outputs": [],
   "source": [
    "from markdownify import markdownify\n",
    "\n",
    "with open(html_file_path1, 'r', encoding='utf-8') as file:\n",
    "    html_content = file.read()\n",
    "\n",
    "markdown_text = markdownify(html_content)\n",
    "with open(\"data/02test1.md\", 'w+', encoding='utf-8') as md_file:\n",
    "    md_file.write(markdown_text)"
   ]
  },
  {
   "cell_type": "markdown",
   "id": "93aea4ba-2669-46d1-87f4-5e8b01265dc0",
   "metadata": {},
   "source": [
    "- 效果不太理想\n",
    "\n",
    "![](./pic/02test1.png)"
   ]
  },
  {
   "cell_type": "markdown",
   "id": "a7fd08c7-c13f-4597-8a73-9abbe0aaa0d6",
   "metadata": {},
   "source": [
    "## 处理标题"
   ]
  },
  {
   "cell_type": "code",
   "execution_count": 6,
   "id": "e320405c-77a8-43f3-b903-182b386e4005",
   "metadata": {
    "execution": {
     "iopub.execute_input": "2023-11-28T02:30:27.968237Z",
     "iopub.status.busy": "2023-11-28T02:30:27.968237Z",
     "iopub.status.idle": "2023-11-28T02:30:27.982807Z",
     "shell.execute_reply": "2023-11-28T02:30:27.982025Z",
     "shell.execute_reply.started": "2023-11-28T02:30:27.968237Z"
    },
    "tags": []
   },
   "outputs": [],
   "source": [
    "from bs4 import BeautifulSoup\n",
    "from markdownify import markdownify\n",
    "\n",
    "with open(html_file_path1, 'r', encoding='utf-8') as file:\n",
    "    html_content = file.read()\n",
    "# 创建 BeautifulSoup 对象\n",
    "soup = BeautifulSoup(html_content, 'html.parser')\n",
    "\n",
    "# 查找所有符合条件的 <p> 元素\n",
    "paragraphs = soup.find_all('p')\n",
    "\n",
    "# 遍历每个 <p> 元素\n",
    "for paragraph in paragraphs:\n",
    "    # 检查 class 属性\n",
    "    class_attribute = paragraph.get('class', [])\n",
    "\n",
    "    # 如果 class=\"Heading-1\"，则替换为 <h1>\n",
    "    if 'Heading-1' in class_attribute:\n",
    "        paragraph.name = 'h1'\n",
    "\n",
    "    # 如果 class=\"Heading-2\"，则替换为 <h2>\n",
    "    elif 'Heading-2' in class_attribute:\n",
    "        paragraph.name = 'h2'\n",
    "    elif 'Heading-3' in class_attribute:\n",
    "        paragraph.name = 'h3'\n",
    "    elif 'Heading-4' in class_attribute:\n",
    "        paragraph.name = 'h4'\n",
    "    elif 'Heading-5' in class_attribute:\n",
    "        paragraph.name = 'h5'\n",
    "    elif 'Heading-6' in class_attribute:\n",
    "        paragraph.name = 'h6'\n",
    "\n",
    "html_file_path2 = \"data/02test2.html\"\n",
    "with open(html_file_path2, 'w', encoding='utf-8') as file:\n",
    "    file.writelines(str(soup).splitlines())"
   ]
  },
  {
   "cell_type": "markdown",
   "id": "90288567-aa69-4325-895e-cde61b0bd155",
   "metadata": {},
   "source": [
    "## 02 html to md"
   ]
  },
  {
   "cell_type": "code",
   "execution_count": 7,
   "id": "9059159d-dedd-4860-8162-4bdf544d8252",
   "metadata": {
    "execution": {
     "iopub.execute_input": "2023-11-28T02:30:31.759472Z",
     "iopub.status.busy": "2023-11-28T02:30:31.759472Z",
     "iopub.status.idle": "2023-11-28T02:30:31.773983Z",
     "shell.execute_reply": "2023-11-28T02:30:31.773983Z",
     "shell.execute_reply.started": "2023-11-28T02:30:31.759472Z"
    },
    "tags": []
   },
   "outputs": [],
   "source": [
    "from markdownify import markdownify\n",
    "\n",
    "with open(html_file_path2, 'r', encoding='utf-8') as file:\n",
    "    html_content = file.read()\n",
    "\n",
    "markdown_text = markdownify(html_content)\n",
    "with open(\"data/02test2.md\", 'w+', encoding='utf-8') as md_file:\n",
    "    md_file.write(markdown_text)"
   ]
  },
  {
   "cell_type": "markdown",
   "id": "180fbcfe-98a0-4089-aa4f-bb66a0fda051",
   "metadata": {},
   "source": [
    "- 此时，可以识别标题了\n",
    "\n",
    "![](./pic/02test2.png)"
   ]
  },
  {
   "cell_type": "code",
   "execution_count": null,
   "id": "8956836a-0679-4c86-afc0-0b447f7ce7c0",
   "metadata": {},
   "outputs": [],
   "source": []
  }
 ],
 "metadata": {
  "kernelspec": {
   "display_name": "chat-env",
   "language": "python",
   "name": "chat-env"
  },
  "language_info": {
   "codemirror_mode": {
    "name": "ipython",
    "version": 3
   },
   "file_extension": ".py",
   "mimetype": "text/x-python",
   "name": "python",
   "nbconvert_exporter": "python",
   "pygments_lexer": "ipython3",
   "version": "3.10.13"
  }
 },
 "nbformat": 4,
 "nbformat_minor": 5
}
