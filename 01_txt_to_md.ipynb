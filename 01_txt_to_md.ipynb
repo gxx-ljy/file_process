{
 "cells": [
  {
   "cell_type": "markdown",
   "id": "bcffc3c9-9e23-43d4-8bea-b57447fb8509",
   "metadata": {},
   "source": [
    "# txt to md"
   ]
  },
  {
   "cell_type": "code",
   "execution_count": 11,
   "id": "1ff76868-7eea-4a43-82c0-f2e9c5da4422",
   "metadata": {
    "execution": {
     "iopub.execute_input": "2023-11-28T03:01:05.415716Z",
     "iopub.status.busy": "2023-11-28T03:01:05.415716Z",
     "iopub.status.idle": "2023-11-28T03:01:05.423990Z",
     "shell.execute_reply": "2023-11-28T03:01:05.423317Z",
     "shell.execute_reply.started": "2023-11-28T03:01:05.415716Z"
    },
    "tags": []
   },
   "outputs": [],
   "source": [
    "txt_file_path = 'data/01test.txt'\n",
    "md_file_path = 'data/01test.md'\n",
    "\n",
    "with open(md_file_path, 'w+', encoding='utf-8') as md_file:\n",
    "\n",
    "    # 打开本地文件并逐行读取内容\n",
    "    with open(txt_file_path, 'rb') as file:\n",
    "        for line in file:\n",
    "            # 解码字节数据为字符串\n",
    "            decoded_line = line.decode('utf-8', errors='ignore')\n",
    "            md_file.write(decoded_line)"
   ]
  },
  {
   "cell_type": "markdown",
   "id": "9681bb5d-89de-42b9-a40e-933e9bec11ed",
   "metadata": {},
   "source": [
    "# 删除"
   ]
  },
  {
   "cell_type": "code",
   "execution_count": 10,
   "id": "9ed1afdb-ae0a-482e-91a6-443c1af25e1f",
   "metadata": {
    "execution": {
     "iopub.execute_input": "2023-11-28T02:04:23.154549Z",
     "iopub.status.busy": "2023-11-28T02:04:23.154549Z",
     "iopub.status.idle": "2023-11-28T02:04:23.167682Z",
     "shell.execute_reply": "2023-11-28T02:04:23.167426Z",
     "shell.execute_reply.started": "2023-11-28T02:04:23.154549Z"
    },
    "tags": []
   },
   "outputs": [],
   "source": [
    "# import os\n",
    "# os.remove(txt_file_path)\n",
    "# os.remove(md_file_path)"
   ]
  },
  {
   "cell_type": "code",
   "execution_count": null,
   "id": "4dfc126f-84aa-4c70-8859-b1348709e177",
   "metadata": {},
   "outputs": [],
   "source": []
  }
 ],
 "metadata": {
  "kernelspec": {
   "display_name": "chat-env",
   "language": "python",
   "name": "chat-env"
  },
  "language_info": {
   "codemirror_mode": {
    "name": "ipython",
    "version": 3
   },
   "file_extension": ".py",
   "mimetype": "text/x-python",
   "name": "python",
   "nbconvert_exporter": "python",
   "pygments_lexer": "ipython3",
   "version": "3.10.13"
  }
 },
 "nbformat": 4,
 "nbformat_minor": 5
}
