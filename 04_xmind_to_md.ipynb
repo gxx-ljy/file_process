{
 "cells": [
  {
   "cell_type": "markdown",
   "id": "0f4a4be3-0ace-4f6f-b531-9c0934b1635c",
   "metadata": {},
   "source": [
    "# xmind to md"
   ]
  },
  {
   "cell_type": "code",
   "execution_count": 2,
   "id": "88368194-acd6-4ce6-a10b-8d4160c83f59",
   "metadata": {
    "execution": {
     "iopub.execute_input": "2023-11-28T02:50:05.535802Z",
     "iopub.status.busy": "2023-11-28T02:50:05.535802Z",
     "iopub.status.idle": "2023-11-28T02:50:05.577250Z",
     "shell.execute_reply": "2023-11-28T02:50:05.576270Z",
     "shell.execute_reply.started": "2023-11-28T02:50:05.535802Z"
    },
    "tags": []
   },
   "outputs": [],
   "source": [
    "from xmindparser import xmind_to_dict\n",
    "xmind_path = \"data/04test.xmind\"\n",
    "xmind_dict = xmind_to_dict(xmind_path)"
   ]
  },
  {
   "cell_type": "code",
   "execution_count": 6,
   "id": "65b35b73-81cd-442c-a6b6-125b69f11153",
   "metadata": {
    "execution": {
     "iopub.execute_input": "2023-11-28T02:52:09.989609Z",
     "iopub.status.busy": "2023-11-28T02:52:09.989458Z",
     "iopub.status.idle": "2023-11-28T02:52:09.996130Z",
     "shell.execute_reply": "2023-11-28T02:52:09.996130Z",
     "shell.execute_reply.started": "2023-11-28T02:52:09.989609Z"
    },
    "tags": []
   },
   "outputs": [
    {
     "name": "stdout",
     "output_type": "stream",
     "text": [
      "- 推理方式\n",
      "  - 演绎\n",
      "    - 子主题 1\n",
      "    - 子主题 2\n",
      "    - 子主题 3\n",
      "  - 归纳\n",
      "  - 类比\n",
      "\n"
     ]
    }
   ],
   "source": [
    "def convert_to_markdown1(item, indent=0):\n",
    "    result = '  ' * indent + f\"- {item['title']}\\n\"\n",
    "\n",
    "    if 'topic' in item:\n",
    "        result += convert_to_markdown1(item['topic'], indent + 1)\n",
    "\n",
    "    if 'topics' in item:\n",
    "        for topic in item['topics']:\n",
    "            result += convert_to_markdown1(topic, indent + 1)\n",
    "\n",
    "    return result\n",
    "\n",
    "markdown_output1 = convert_to_markdown1(xmind_dict[0]['topic'])\n",
    "\n",
    "print(markdown_output1)\n",
    "with open('data/04test1.md', 'w+', encoding='utf-8') as md_file:\n",
    "    md_file.write(markdown_output1)"
   ]
  },
  {
   "cell_type": "code",
   "execution_count": 7,
   "id": "04af60d2-5217-45a2-acd8-efbf26daa459",
   "metadata": {
    "execution": {
     "iopub.execute_input": "2023-11-28T02:52:10.424985Z",
     "iopub.status.busy": "2023-11-28T02:52:10.423983Z",
     "iopub.status.idle": "2023-11-28T02:52:10.433432Z",
     "shell.execute_reply": "2023-11-28T02:52:10.433432Z",
     "shell.execute_reply.started": "2023-11-28T02:52:10.424985Z"
    },
    "tags": []
   },
   "outputs": [
    {
     "name": "stdout",
     "output_type": "stream",
     "text": [
      "# 推理方式\n",
      "## 演绎\n",
      "### 子主题 1\n",
      "### 子主题 2\n",
      "### 子主题 3\n",
      "## 归纳\n",
      "## 类比\n",
      "\n"
     ]
    }
   ],
   "source": [
    "def convert_to_markdown2(item, indent=0):\n",
    "    result = '#' * indent + f\"# {item['title']}\\n\"\n",
    "\n",
    "    if 'topic' in item:\n",
    "        result += convert_to_markdown2(item['topic'], indent + 1)\n",
    "\n",
    "    if 'topics' in item:\n",
    "        for topic in item['topics']:\n",
    "            result += convert_to_markdown2(topic, indent + 1)\n",
    "\n",
    "    return result\n",
    "\n",
    "markdown_output2 = convert_to_markdown2(xmind_dict[0]['topic'])\n",
    "\n",
    "print(markdown_output2)\n",
    "with open('data/04test2.md', 'w+', encoding='utf-8') as md_file:\n",
    "    md_file.write(markdown_output2)"
   ]
  },
  {
   "cell_type": "code",
   "execution_count": null,
   "id": "ff73b536-8739-41e5-9b76-acab572a9034",
   "metadata": {},
   "outputs": [],
   "source": []
  }
 ],
 "metadata": {
  "kernelspec": {
   "display_name": "chat-env",
   "language": "python",
   "name": "chat-env"
  },
  "language_info": {
   "codemirror_mode": {
    "name": "ipython",
    "version": 3
   },
   "file_extension": ".py",
   "mimetype": "text/x-python",
   "name": "python",
   "nbconvert_exporter": "python",
   "pygments_lexer": "ipython3",
   "version": "3.10.13"
  }
 },
 "nbformat": 4,
 "nbformat_minor": 5
}
