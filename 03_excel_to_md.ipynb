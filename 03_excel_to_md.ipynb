{
 "cells": [
  {
   "cell_type": "markdown",
   "id": "15cbbd87-d9e2-4994-a453-cc21d0e3bd9f",
   "metadata": {},
   "source": [
    "# excel to md"
   ]
  },
  {
   "cell_type": "code",
   "execution_count": 9,
   "id": "ae4bc7af-20d1-48b9-8e80-e947c054291d",
   "metadata": {
    "execution": {
     "iopub.execute_input": "2023-11-28T02:44:42.397990Z",
     "iopub.status.busy": "2023-11-28T02:44:42.396919Z",
     "iopub.status.idle": "2023-11-28T02:44:42.414104Z",
     "shell.execute_reply": "2023-11-28T02:44:42.414104Z",
     "shell.execute_reply.started": "2023-11-28T02:44:42.397990Z"
    },
    "tags": []
   },
   "outputs": [],
   "source": [
    "import pandas as pd\n",
    "\n",
    "excel_path = \"data/03test.xlsx\"\n",
    "markdown_path = \"data/03test.md\"\n",
    "# 读取Excel文件\n",
    "df = pd.read_excel(excel_path, index_col=None)# , header=None\n",
    "\n",
    "# 将数据格式化为Markdown\n",
    "markdown_output = df.to_markdown(index=False)\n",
    "\n",
    "# 将Markdown写入文件\n",
    "with open(markdown_path, 'w', encoding='utf-8') as markdown_file:\n",
    "    markdown_file.write(markdown_output)"
   ]
  },
  {
   "cell_type": "code",
   "execution_count": null,
   "id": "d113a38f-a377-4c3a-8c45-e3268e25e2b5",
   "metadata": {},
   "outputs": [],
   "source": []
  }
 ],
 "metadata": {
  "kernelspec": {
   "display_name": "chat-env",
   "language": "python",
   "name": "chat-env"
  },
  "language_info": {
   "codemirror_mode": {
    "name": "ipython",
    "version": 3
   },
   "file_extension": ".py",
   "mimetype": "text/x-python",
   "name": "python",
   "nbconvert_exporter": "python",
   "pygments_lexer": "ipython3",
   "version": "3.10.13"
  }
 },
 "nbformat": 4,
 "nbformat_minor": 5
}
