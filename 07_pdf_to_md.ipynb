{
 "cells": [
  {
   "cell_type": "code",
   "execution_count": 2,
   "id": "ad144305-01ce-4a9c-9a81-74aa5596ff0c",
   "metadata": {
    "execution": {
     "iopub.execute_input": "2023-12-20T01:20:05.339006Z",
     "iopub.status.busy": "2023-12-20T01:20:05.337655Z",
     "iopub.status.idle": "2023-12-20T01:20:05.478031Z",
     "shell.execute_reply": "2023-12-20T01:20:05.478031Z",
     "shell.execute_reply.started": "2023-12-20T01:20:05.339006Z"
    },
    "tags": []
   },
   "outputs": [],
   "source": [
    "import PyPDF2\n",
    "\n",
    "\n",
    "def pdf_to_markdown(pdf_path, markdown_path):\n",
    "    with open(pdf_path, 'rb') as pdf_file:\n",
    "        # 创建PDF阅读器对象\n",
    "        pdf_reader = PyPDF2.PdfReader(pdf_file)\n",
    "\n",
    "        # 创建Markdown文件\n",
    "        with open(markdown_path, 'w', encoding='utf-8') as markdown_file:\n",
    "            # 遍历PDF中的页面\n",
    "            for page_number in range(len(pdf_reader.pages)):\n",
    "                # 获取页面对象\n",
    "                page = pdf_reader.pages[page_number]\n",
    "\n",
    "                # 提取文本\n",
    "                page_text = page.extract_text()\n",
    "\n",
    "                # 将文本写入Markdown文件\n",
    "                markdown_file.write(page_text)\n",
    "\n",
    "\n",
    "pdf_path = \"data/07test.pdf\"\n",
    "markdown_path = \"data/07test1.md\"\n",
    "pdf_to_markdown(pdf_path, markdown_path)"
   ]
  },
  {
   "cell_type": "code",
   "execution_count": null,
   "id": "31a539bd-8f44-4423-96d8-1ed59647c906",
   "metadata": {},
   "outputs": [],
   "source": []
  }
 ],
 "metadata": {
  "kernelspec": {
   "display_name": "chat-env",
   "language": "python",
   "name": "chat-env"
  },
  "language_info": {
   "codemirror_mode": {
    "name": "ipython",
    "version": 3
   },
   "file_extension": ".py",
   "mimetype": "text/x-python",
   "name": "python",
   "nbconvert_exporter": "python",
   "pygments_lexer": "ipython3",
   "version": "3.10.13"
  }
 },
 "nbformat": 4,
 "nbformat_minor": 5
}
