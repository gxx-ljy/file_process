{
 "cells": [
  {
   "cell_type": "code",
   "execution_count": 3,
   "id": "8b7cec17-29e9-41b2-ac94-9e0bc23ec750",
   "metadata": {
    "execution": {
     "iopub.execute_input": "2023-12-20T03:34:31.558804Z",
     "iopub.status.busy": "2023-12-20T03:34:31.557797Z",
     "iopub.status.idle": "2023-12-20T03:34:31.581948Z",
     "shell.execute_reply": "2023-12-20T03:34:31.580444Z",
     "shell.execute_reply.started": "2023-12-20T03:34:31.558804Z"
    },
    "tags": []
   },
   "outputs": [],
   "source": [
    "from pptx import Presentation\n",
    "\n",
    "\n",
    "def ppt_to_markdown(ppt_file, md_file):\n",
    "    prs = Presentation(ppt_file)\n",
    "\n",
    "    with open(md_file, 'w', encoding='utf-8') as f:\n",
    "        for slide in prs.slides:\n",
    "            for shape in slide.shapes:\n",
    "                if not shape.has_text_frame:\n",
    "                    continue\n",
    "\n",
    "                text_frame = shape.text_frame\n",
    "                for paragraph in text_frame.paragraphs:\n",
    "                    for run in paragraph.runs:\n",
    "                        f.write(run.text + \"\\n\\n\")\n",
    "\n",
    "ppt_to_markdown('data/08test.pptx', 'data/08test1.md')"
   ]
  },
  {
   "cell_type": "code",
   "execution_count": null,
   "id": "52787035-e6e0-414c-817a-28acaa761179",
   "metadata": {},
   "outputs": [],
   "source": []
  }
 ],
 "metadata": {
  "kernelspec": {
   "display_name": "chat-env",
   "language": "python",
   "name": "chat-env"
  },
  "language_info": {
   "codemirror_mode": {
    "name": "ipython",
    "version": 3
   },
   "file_extension": ".py",
   "mimetype": "text/x-python",
   "name": "python",
   "nbconvert_exporter": "python",
   "pygments_lexer": "ipython3",
   "version": "3.10.13"
  }
 },
 "nbformat": 4,
 "nbformat_minor": 5
}
