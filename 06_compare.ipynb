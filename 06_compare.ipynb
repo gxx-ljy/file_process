{
 "cells": [
  {
   "cell_type": "markdown",
   "id": "91deca04-36a6-4859-a33d-03c4fb7c87eb",
   "metadata": {},
   "source": [
    "# 版本对比"
   ]
  },
  {
   "cell_type": "code",
   "execution_count": 35,
   "id": "d5cdd052-1d92-49f3-acde-1642a401f4fb",
   "metadata": {
    "execution": {
     "iopub.execute_input": "2023-11-30T01:17:34.810582Z",
     "iopub.status.busy": "2023-11-30T01:17:34.810582Z",
     "iopub.status.idle": "2023-11-30T01:17:34.832595Z",
     "shell.execute_reply": "2023-11-30T01:17:34.831604Z",
     "shell.execute_reply.started": "2023-11-30T01:17:34.810582Z"
    },
    "tags": []
   },
   "outputs": [],
   "source": [
    "import docx\n",
    "import difflib\n",
    "\n",
    "def read_docx(file_path):\n",
    "    doc = docx.Document(file_path)\n",
    "    content = []\n",
    "    for paragraph in doc.paragraphs:\n",
    "        content.append(paragraph.text+'\\n')\n",
    "    return content\n",
    "\n",
    "def compare_versions1(file1_path, file2_path, output_path=None, menthod='light'):\n",
    "    if (file1_path.endswith(\".txt\") & file2_path.endswith(\".txt\")) | (file1_path.endswith(\".md\") & file2_path.endswith(\".md\")):\n",
    "        # 读取两个文件的内容\n",
    "        with open(file1_path, 'r', encoding='utf-8') as file1:\n",
    "            file1_content = file1.readlines()\n",
    "\n",
    "        with open(file2_path, 'r', encoding='utf-8') as file2:\n",
    "            file2_content = file2.readlines()\n",
    "    elif file1_path.endswith(\".docx\") & file2_path.endswith(\".docx\"):\n",
    "        file1_content = read_docx(file1_path)\n",
    "        file2_content = read_docx(file2_path)\n",
    "\n",
    "    # 使用 difflib 进行比较\n",
    "    d = difflib.Differ()\n",
    "    diff = list(d.compare(file1_content, file2_content))\n",
    "\n",
    "    # 输出结果\n",
    "    markdown_output = []\n",
    "    if menthod == 'text':\n",
    "        for line in diff:\n",
    "            if line.startswith('- '):  # 删除的部分\n",
    "                print(f\"\\033[91m{line}\\033[0m\", end='')  # 使用 ANSI escape code 标记为红色\n",
    "            elif line.startswith('+ '):  # 新增的部分\n",
    "                print(f\"\\033[92m{line}\\033[0m\", end='')  # 使用 ANSI escape code 标记为绿色\n",
    "            else:\n",
    "                print(line, end='')\n",
    "    elif menthod == 'light':\n",
    "        for line in diff:\n",
    "            if line.startswith('- '):  # 删除的部分\n",
    "                markdown_output.append(f\"<p style='background-color:#ffc4cb'>{line}</p>\\n\")\n",
    "            elif line.startswith('+ '):  # 新增的部分\n",
    "                markdown_output.append(f\"<p style='background-color:#c7ecd2'>{line}</p>\\n\")\n",
    "            else:\n",
    "                markdown_output.append(line)\n",
    "        # 将结果写入Markdown文件\n",
    "        with open(output_path, 'w', encoding='utf-8') as output_file:\n",
    "            output_file.write('\\n'.join(markdown_output))"
   ]
  },
  {
   "cell_type": "code",
   "execution_count": 36,
   "id": "aa3316cc-fd53-4310-9bef-83042e722499",
   "metadata": {
    "execution": {
     "iopub.execute_input": "2023-11-30T01:17:37.199417Z",
     "iopub.status.busy": "2023-11-30T01:17:37.199417Z",
     "iopub.status.idle": "2023-11-30T01:17:37.210092Z",
     "shell.execute_reply": "2023-11-30T01:17:37.210092Z",
     "shell.execute_reply.started": "2023-11-30T01:17:37.199417Z"
    },
    "tags": []
   },
   "outputs": [],
   "source": [
    "compare_versions1('data/06test1.md', 'data/06test2.md', 'data/06output.md', 'light')"
   ]
  },
  {
   "cell_type": "markdown",
   "id": "4e84f7e8-babe-49f2-9e20-9425d2daa670",
   "metadata": {},
   "source": [
    "  \n",
    "\n",
    "  刚被炒一天，又要回归？OpenAI创始人山姆·阿尔特曼（Sam Altman）被免去CEO职务事件迎来戏剧性反转？\n",
    "\n",
    "  \n",
    "\n",
    "  北京时间11月19日早间，彭博社等媒体援引要求不具名的知情人士称，OpenAI投资者正在向公司董事会施压，要求其撤销开除CEO阿尔特曼并免去其董事职务的决定。具体来看，包括Thrive Capital和老虎环球管理公司在内的一些投资者正在与OpenAI最大股东微软就恢复阿尔特曼担任CEO一事进行谈判。\n",
    "\n",
    "  \n",
    "\n",
    "  而在此前的美东时间11月17日，一夜之间，全球生成式人工智能技术的“领头羊”OpenAI的管理层突然巨震。OpenAI董事会表示，由于对山姆·阿尔特曼领导公司的能力失去了信心，阿尔特曼的下台立即生效。\n",
    "\n",
    "  \n",
    "\n",
    "<p style='background-color:#ffc4cb'>- 同日，格雷格·布洛克曼也宣布辞去OpenAI董事会主席职务，仍将继续在公司任职，向首席执行官汇报。公司首席技术官米拉·穆拉蒂（Mira Murati）将担任临时首席执行官，同时也正在寻找永久继任者。OpenAI的4人核心团队似有分崩离析之势。</p>\n",
    "\n",
    "<p style='background-color:#c7ecd2'>+ rrrrrrrrr\n",
    "</p>\n"
   ]
  },
  {
   "cell_type": "code",
   "execution_count": 37,
   "id": "c102c133-a537-4d9d-bf98-e652e8edf316",
   "metadata": {
    "execution": {
     "iopub.execute_input": "2023-11-30T01:17:38.516601Z",
     "iopub.status.busy": "2023-11-30T01:17:38.515680Z",
     "iopub.status.idle": "2023-11-30T01:17:38.533114Z",
     "shell.execute_reply": "2023-11-30T01:17:38.532523Z",
     "shell.execute_reply.started": "2023-11-30T01:17:38.516601Z"
    },
    "tags": []
   },
   "outputs": [
    {
     "name": "stdout",
     "output_type": "stream",
     "text": [
      "  \n",
      "  刚被炒一天，又要回归？OpenAI创始人山姆·阿尔特曼（Sam Altman）被免去CEO职务事件迎来戏剧性反转？\n",
      "  \n",
      "  北京时间11月19日早间，彭博社等媒体援引要求不具名的知情人士称，OpenAI投资者正在向公司董事会施压，要求其撤销开除CEO阿尔特曼并免去其董事职务的决定。具体来看，包括Thrive Capital和老虎环球管理公司在内的一些投资者正在与OpenAI最大股东微软就恢复阿尔特曼担任CEO一事进行谈判。\n",
      "  \n",
      "\u001b[91m- 而在此前的美东时间11月17日，一夜之间，全球生成式人工智能技术的“领头羊”OpenAI的管理层突然巨震。\n",
      "\u001b[0m\u001b[92m+ 而在此前的美东时间11月17日，一夜之间，全球生成式人工智能技术的“领头羊”OpenAI的管理层突然巨震。OpenAI董事会表示，由于对山姆·阿尔特曼领导公司的能力失去了信心，阿尔特曼的下台立即生效。\n",
      "\u001b[0m  \n",
      "\u001b[91m- 同日，格雷格·布洛克曼也宣布辞去OpenAI董事会主席职务，仍将继续在公司任职，向首席执行官汇报。公司首席技术官米拉·穆拉蒂（Mira Murati）将担任临时首席执行官，同时也正在寻找永久继任者。OpenAI的4人核心团队似有分崩离析之势。\u001b[0m\u001b[92m+ 同日，格雷格·布洛克曼也宣布辞去OpenAI董事会主席职务，仍将继续在公司任职，向首席执行官汇报。公司首席技术官米拉·穆拉蒂（Mira Murati）将担任临时首席执行官，同时也正在寻找永久继任者。OpenAI的4人核心团队似有分崩离析之势。\n",
      "\u001b[0m?                                                                                                                          +\n",
      "\u001b[92m+ \n",
      "\u001b[0m\u001b[92m+ \n",
      "\u001b[0m\u001b[92m+ mmmmmmmmmmmm\n",
      "\u001b[0m"
     ]
    }
   ],
   "source": [
    "compare_versions1('data/06test3.txt', 'data/06test4.txt', None, menthod='text')"
   ]
  },
  {
   "cell_type": "code",
   "execution_count": 38,
   "id": "7e7dae4a-fffb-47f1-a2d2-938389d40fb6",
   "metadata": {
    "execution": {
     "iopub.execute_input": "2023-11-30T01:17:39.000174Z",
     "iopub.status.busy": "2023-11-30T01:17:39.000174Z",
     "iopub.status.idle": "2023-11-30T01:17:39.018717Z",
     "shell.execute_reply": "2023-11-30T01:17:39.018717Z",
     "shell.execute_reply.started": "2023-11-30T01:17:39.000174Z"
    },
    "tags": []
   },
   "outputs": [
    {
     "name": "stdout",
     "output_type": "stream",
     "text": [
      "  \n",
      "  刚被炒一天，又要回归？OpenAI创始人山姆·阿尔特曼（Sam Altman）被免去CEO职务事件迎来戏剧性反转？\n",
      "  \n",
      "  北京时间11月19日早间，彭博社等媒体援引要求不具名的知情人士称，OpenAI投资者正在向公司董事会施压，要求其撤销开除CEO阿尔特曼并免去其董事职务的决定。具体来看，包括Thrive Capital和老虎环球管理公司在内的一些投资者正在与OpenAI最大股东微软就恢复阿尔特曼担任CEO一事进行谈判。\n",
      "  \n",
      "\u001b[91m- 而在此前的美东时间11月17日，一夜之间，全球生成式人工智能技术的“领头羊”OpenAI的管理层突然巨震。OpenAI董事会表示，由于对山姆·阿尔特曼领导公司的能力失去了信心，阿尔特曼的下台立即生效。\n",
      "\u001b[0m\u001b[92m+ 222222222\n",
      "\u001b[0m  \n",
      "  同日，格雷格·布洛克曼也宣布辞去OpenAI董事会主席职务，仍将继续在公司任职，向首席执行官汇报。公司首席技术官米拉·穆拉蒂（Mira Murati）将担任临时首席执行官，同时也正在寻找永久继任者。OpenAI的4人核心团队似有分崩离析之势。\n"
     ]
    }
   ],
   "source": [
    "compare_versions1('data/06test5.docx', 'data/06test6.docx', None, menthod='text')"
   ]
  },
  {
   "cell_type": "code",
   "execution_count": null,
   "id": "d3ccb0b1-3d45-4324-ba09-132a1162896e",
   "metadata": {},
   "outputs": [],
   "source": []
  }
 ],
 "metadata": {
  "kernelspec": {
   "display_name": "chat-env",
   "language": "python",
   "name": "chat-env"
  },
  "language_info": {
   "codemirror_mode": {
    "name": "ipython",
    "version": 3
   },
   "file_extension": ".py",
   "mimetype": "text/x-python",
   "name": "python",
   "nbconvert_exporter": "python",
   "pygments_lexer": "ipython3",
   "version": "3.10.13"
  }
 },
 "nbformat": 4,
 "nbformat_minor": 5
}
